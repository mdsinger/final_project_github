{
 "cells": [
  {
   "cell_type": "code",
   "execution_count": 4,
   "metadata": {},
   "outputs": [],
   "source": [
    "import matplotlib.pyplot as plt\n",
    "import pandas as pd\n",
    "import numpy as np\n",
    "import os"
   ]
  },
  {
   "cell_type": "code",
   "execution_count": 7,
   "metadata": {},
   "outputs": [
    {
     "data": {
      "text/plain": [
       "['Sheet1']"
      ]
     },
     "execution_count": 7,
     "metadata": {},
     "output_type": "execute_result"
    }
   ],
   "source": [
    "with open('/Users/travelingshoes/Desktop/final_project_github/Weather data/Morgan_Weather_Data.xlsx', 'r', encoding='utf-8', errors='ignore') as f:\n",
    "    data = f.read()\n",
    "\n",
    "# Read in data from CSV file\n",
    "morgan_data = pd.ExcelFile(\"Morgan_Weather_Data.xlsx\")\n",
    "#morgan_data = pd.read_csv('Morgan_Weather_Data.xlsx')\n",
    "\n",
    "# Get the sheets\n",
    "morgan_data.sheet_names\n",
    "\n"
   ]
  },
  {
   "cell_type": "code",
   "execution_count": 10,
   "metadata": {},
   "outputs": [
    {
     "data": {
      "text/html": [
       "<div>\n",
       "<style scoped>\n",
       "    .dataframe tbody tr th:only-of-type {\n",
       "        vertical-align: middle;\n",
       "    }\n",
       "\n",
       "    .dataframe tbody tr th {\n",
       "        vertical-align: top;\n",
       "    }\n",
       "\n",
       "    .dataframe thead th {\n",
       "        text-align: right;\n",
       "    }\n",
       "</style>\n",
       "<table border=\"1\" class=\"dataframe\">\n",
       "  <thead>\n",
       "    <tr style=\"text-align: right;\">\n",
       "      <th></th>\n",
       "      <th>Date</th>\n",
       "      <th>Morgan SWE</th>\n",
       "      <th>Unnamed: 2</th>\n",
       "      <th>Hardscrabble (896) Snow Water Equivalent (in) Start of Day Values</th>\n",
       "      <th>Horse Ridge (533) Snow Water Equivalent (in) Start of Day Values</th>\n",
       "      <th>Kilfoil Creek (1145) Snow Water Equivalent (in) Start of Day Values</th>\n",
       "      <th>UTAH SWE</th>\n",
       "      <th>MorganTemp_Max (°F)</th>\n",
       "      <th>MorganTemp_min (°F)</th>\n",
       "      <th>MorganTemp_mean (°F)</th>\n",
       "      <th>MorganPrecipitation_sum (inch)</th>\n",
       "      <th>MorganRain_sum (inch)</th>\n",
       "      <th>MorganSnowfall_sum (inch)</th>\n",
       "      <th>MorganWindspeed_10m_max (mp/h)</th>\n",
       "    </tr>\n",
       "  </thead>\n",
       "  <tbody>\n",
       "    <tr>\n",
       "      <th>0</th>\n",
       "      <td>1982-10-01</td>\n",
       "      <td>80.0</td>\n",
       "      <td>No</td>\n",
       "      <td>NaN</td>\n",
       "      <td>1.9</td>\n",
       "      <td>NaN</td>\n",
       "      <td>1.4</td>\n",
       "      <td>47.1</td>\n",
       "      <td>35.8</td>\n",
       "      <td>40.9</td>\n",
       "      <td>0.464</td>\n",
       "      <td>0.464</td>\n",
       "      <td>0.0</td>\n",
       "      <td>6.5</td>\n",
       "    </tr>\n",
       "    <tr>\n",
       "      <th>1</th>\n",
       "      <td>1982-10-02</td>\n",
       "      <td>80.0</td>\n",
       "      <td>No</td>\n",
       "      <td>NaN</td>\n",
       "      <td>2.2</td>\n",
       "      <td>NaN</td>\n",
       "      <td>1.4</td>\n",
       "      <td>56.4</td>\n",
       "      <td>34.9</td>\n",
       "      <td>45.7</td>\n",
       "      <td>0.000</td>\n",
       "      <td>0.000</td>\n",
       "      <td>0.0</td>\n",
       "      <td>5.6</td>\n",
       "    </tr>\n",
       "    <tr>\n",
       "      <th>2</th>\n",
       "      <td>1982-10-03</td>\n",
       "      <td>80.5</td>\n",
       "      <td>No</td>\n",
       "      <td>NaN</td>\n",
       "      <td>2.2</td>\n",
       "      <td>NaN</td>\n",
       "      <td>1.3</td>\n",
       "      <td>61.3</td>\n",
       "      <td>37.3</td>\n",
       "      <td>48.6</td>\n",
       "      <td>0.000</td>\n",
       "      <td>0.000</td>\n",
       "      <td>0.0</td>\n",
       "      <td>4.7</td>\n",
       "    </tr>\n",
       "    <tr>\n",
       "      <th>3</th>\n",
       "      <td>1982-10-04</td>\n",
       "      <td>81.0</td>\n",
       "      <td>No</td>\n",
       "      <td>NaN</td>\n",
       "      <td>1.9</td>\n",
       "      <td>NaN</td>\n",
       "      <td>1.3</td>\n",
       "      <td>64.8</td>\n",
       "      <td>41.3</td>\n",
       "      <td>51.9</td>\n",
       "      <td>0.094</td>\n",
       "      <td>0.094</td>\n",
       "      <td>0.0</td>\n",
       "      <td>9.1</td>\n",
       "    </tr>\n",
       "    <tr>\n",
       "      <th>4</th>\n",
       "      <td>1982-10-05</td>\n",
       "      <td>81.0</td>\n",
       "      <td>No</td>\n",
       "      <td>NaN</td>\n",
       "      <td>1.6</td>\n",
       "      <td>NaN</td>\n",
       "      <td>1.2</td>\n",
       "      <td>47.9</td>\n",
       "      <td>37.2</td>\n",
       "      <td>43.4</td>\n",
       "      <td>0.249</td>\n",
       "      <td>0.249</td>\n",
       "      <td>0.0</td>\n",
       "      <td>7.6</td>\n",
       "    </tr>\n",
       "  </tbody>\n",
       "</table>\n",
       "</div>"
      ],
      "text/plain": [
       "        Date  Morgan SWE  Unnamed: 2  \\\n",
       "0 1982-10-01         80.0         No   \n",
       "1 1982-10-02         80.0         No   \n",
       "2 1982-10-03         80.5         No   \n",
       "3 1982-10-04         81.0         No   \n",
       "4 1982-10-05         81.0         No   \n",
       "\n",
       "   Hardscrabble (896) Snow Water Equivalent (in) Start of Day Values  \\\n",
       "0                                                NaN                   \n",
       "1                                                NaN                   \n",
       "2                                                NaN                   \n",
       "3                                                NaN                   \n",
       "4                                                NaN                   \n",
       "\n",
       "   Horse Ridge (533) Snow Water Equivalent (in) Start of Day Values  \\\n",
       "0                                                1.9                  \n",
       "1                                                2.2                  \n",
       "2                                                2.2                  \n",
       "3                                                1.9                  \n",
       "4                                                1.6                  \n",
       "\n",
       "   Kilfoil Creek (1145) Snow Water Equivalent (in) Start of Day Values  \\\n",
       "0                                                NaN                     \n",
       "1                                                NaN                     \n",
       "2                                                NaN                     \n",
       "3                                                NaN                     \n",
       "4                                                NaN                     \n",
       "\n",
       "   UTAH SWE  MorganTemp_Max (°F)  MorganTemp_min (°F)  MorganTemp_mean (°F)  \\\n",
       "0       1.4                 47.1                 35.8                  40.9   \n",
       "1       1.4                 56.4                 34.9                  45.7   \n",
       "2       1.3                 61.3                 37.3                  48.6   \n",
       "3       1.3                 64.8                 41.3                  51.9   \n",
       "4       1.2                 47.9                 37.2                  43.4   \n",
       "\n",
       "   MorganPrecipitation_sum (inch)  MorganRain_sum (inch)  \\\n",
       "0                           0.464                  0.464   \n",
       "1                           0.000                  0.000   \n",
       "2                           0.000                  0.000   \n",
       "3                           0.094                  0.094   \n",
       "4                           0.249                  0.249   \n",
       "\n",
       "   MorganSnowfall_sum (inch)  MorganWindspeed_10m_max (mp/h)  \n",
       "0                        0.0                             6.5  \n",
       "1                        0.0                             5.6  \n",
       "2                        0.0                             4.7  \n",
       "3                        0.0                             9.1  \n",
       "4                        0.0                             7.6  "
      ]
     },
     "execution_count": 10,
     "metadata": {},
     "output_type": "execute_result"
    }
   ],
   "source": [
    "# Get the morgan_info from the crowdfunding_info worksheet. \n",
    "morgan_info_df = pd.read_excel(morgan_data, sheet_name='Sheet1')\n",
    "morgan_info_df.head()"
   ]
  },
  {
   "cell_type": "code",
   "execution_count": 15,
   "metadata": {},
   "outputs": [
    {
     "data": {
      "text/plain": [
       "LogisticRegression(random_state=1)"
      ]
     },
     "execution_count": 15,
     "metadata": {},
     "output_type": "execute_result"
    }
   ],
   "source": [
    "from sklearn.linear_model import LogisticRegression\n",
    "classifier = LogisticRegression(solver='lbfgs', random_state=1)\n",
    "classifier\n",
    "\n",
    "#X, y = morgan_data(centers=2, random_state=42)\n",
    "\n",
    "#print(f\"Labels: {y[:10]}\")\n",
    "#print(f\"Data: {X[:10]}\")"
   ]
  },
  {
   "cell_type": "code",
   "execution_count": 11,
   "metadata": {},
   "outputs": [
    {
     "data": {
      "text/plain": [
       "LogisticRegression(random_state=1)"
      ]
     },
     "execution_count": 11,
     "metadata": {},
     "output_type": "execute_result"
    }
   ],
   "source": [
    "# Visualizing both classes\n",
    "plt.scatter(X[:, 0], X[:, 1], c=y)"
   ]
  },
  {
   "cell_type": "code",
   "execution_count": 12,
   "metadata": {},
   "outputs": [
    {
     "ename": "NameError",
     "evalue": "name 'X_train' is not defined",
     "output_type": "error",
     "traceback": [
      "\u001b[0;31m---------------------------------------------------------------------------\u001b[0m",
      "\u001b[0;31mNameError\u001b[0m                                 Traceback (most recent call last)",
      "\u001b[0;32m/var/folders/50/glznch0579vbxddqhnfkwnk40000gn/T/ipykernel_61047/605911896.py\u001b[0m in \u001b[0;36m<module>\u001b[0;34m\u001b[0m\n\u001b[1;32m      1\u001b[0m \u001b[0;31m# Train the data\u001b[0m\u001b[0;34m\u001b[0m\u001b[0;34m\u001b[0m\u001b[0;34m\u001b[0m\u001b[0m\n\u001b[0;32m----> 2\u001b[0;31m \u001b[0mclassifier\u001b[0m\u001b[0;34m.\u001b[0m\u001b[0mfit\u001b[0m\u001b[0;34m(\u001b[0m\u001b[0mX_train\u001b[0m\u001b[0;34m,\u001b[0m \u001b[0my_train\u001b[0m\u001b[0;34m)\u001b[0m\u001b[0;34m\u001b[0m\u001b[0;34m\u001b[0m\u001b[0m\n\u001b[0m",
      "\u001b[0;31mNameError\u001b[0m: name 'X_train' is not defined"
     ]
    }
   ],
   "source": [
    "# Train the data\n",
    "classifier.fit(X_train, y_train)"
   ]
  }
 ],
 "metadata": {
  "kernelspec": {
   "display_name": "mlenv",
   "language": "python",
   "name": "mlenv"
  },
  "language_info": {
   "codemirror_mode": {
    "name": "ipython",
    "version": 3
   },
   "file_extension": ".py",
   "mimetype": "text/x-python",
   "name": "python",
   "nbconvert_exporter": "python",
   "pygments_lexer": "ipython3",
   "version": "3.7.13"
  },
  "orig_nbformat": 4
 },
 "nbformat": 4,
 "nbformat_minor": 2
}
